{
 "cells": [
  {
   "cell_type": "code",
   "execution_count": 9,
   "id": "5ca98f96",
   "metadata": {
    "scrolled": true
   },
   "outputs": [
    {
     "data": {
      "text/plain": [
       "True"
      ]
     },
     "execution_count": 9,
     "metadata": {},
     "output_type": "execute_result"
    }
   ],
   "source": [
    "not(100<99)"
   ]
  },
  {
   "cell_type": "code",
   "execution_count": 10,
   "id": "45774744",
   "metadata": {},
   "outputs": [
    {
     "name": "stdout",
     "output_type": "stream",
     "text": [
      "horse\n"
     ]
    }
   ],
   "source": [
    "x = 4\n",
    "w = False\n",
    "if x == 4:\n",
    "    if w:\n",
    "        print(\"bear\")\n",
    "    else:\n",
    "        print(\"horse\")\n",
    "else:\n",
    "    if w:\n",
    "        print(\"eagle\")\n",
    "    else:\n",
    "        print(\"chicken\")\n",
    "        \n",
    "        "
   ]
  }
 ],
 "metadata": {
  "kernelspec": {
   "display_name": "Python 3 (ipykernel)",
   "language": "python",
   "name": "python3"
  },
  "language_info": {
   "codemirror_mode": {
    "name": "ipython",
    "version": 3
   },
   "file_extension": ".py",
   "mimetype": "text/x-python",
   "name": "python",
   "nbconvert_exporter": "python",
   "pygments_lexer": "ipython3",
   "version": "3.10.4"
  }
 },
 "nbformat": 4,
 "nbformat_minor": 5
}
