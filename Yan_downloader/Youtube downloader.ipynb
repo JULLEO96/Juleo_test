{
 "cells": [
  {
   "cell_type": "code",
   "execution_count": 1,
   "id": "2de0ed81",
   "metadata": {},
   "outputs": [],
   "source": [
    "import pytube\n",
    "from tkinter import *\n",
    "from tkinter import ttk\n",
    "\n",
    "def youTube_dwnld():\n",
    "    try:    \n",
    "        url_in = url_entry.get()\n",
    "        res_in = str(res_entry.get())\n",
    "        path = \"C:\"\n",
    "        pytube.YouTube(url_in).streams.get_by_resolution(res_in).download(path)\n",
    "    except AttributeError:\n",
    "        pytube.YouTube(url_in).streams.get_lowest_resolution().download(path)\n",
    "    \n",
    "#def \n",
    "\n",
    "root = Tk()\n",
    "root.title(\"youTube downloader\")\n",
    "root.iconbitmap(\"cosmic_cat1.ico\")\n",
    "root.geometry(\"480x320\")\n",
    "\n",
    "\n",
    "mainframe = ttk.Frame(root, padding=\"45 45 80 80\")\n",
    "mainframe.grid(column=0, row=0, sticky=(N, W, E, S))\n",
    "\n",
    "url = StringVar()\n",
    "url_entry = ttk.Entry(mainframe, width=17, textvariable=url)\n",
    "url_entry.grid(column=20, row=10, sticky=(W, E))\n",
    "\n",
    "res = StringVar()\n",
    "res_entry = ttk.Entry(mainframe, width=17, textvariable=res)\n",
    "res_entry.grid(column=20, row=20, sticky=(W, E))\n",
    "\n",
    "#meter = StringVar()\n",
    "#ttk.Label(mainframe, textvariable=meter).grid(column=2, row=2, sticky=(W, E))\n",
    "\n",
    "download_button = ttk.Button(mainframe, text=\"Download\", command=youTube_dwnld).grid(column=30, row=60, sticky=W)\n",
    "exit_button = ttk.Button(mainframe, text=\"Exit\", command=mainframe.quit).grid(column=20, row=60, sticky=W)\n",
    "\n",
    "#progress_bar = Progressbar(mainframe, orient=HORIZONTAL, lenght=300)\n",
    "\n",
    "url_label = ttk.Label(mainframe, text=\"Input URL\").grid(column=30, row=10, sticky=W)\n",
    "res_label = ttk.Label(mainframe, text=\"Enter video res ('720p', '480p', '360p', '240p', '144p')\").grid(column=30, row=20, sticky=W)\n",
    "\n",
    "for child in mainframe.winfo_children(): \n",
    "    child.grid_configure(padx=5, pady=5)\n",
    "\n",
    "url_entry.focus()\n",
    "root.bind(\"<Return>\", youTube_dwnld)\n",
    "\n",
    "root.mainloop()"
   ]
  }
 ],
 "metadata": {
  "kernelspec": {
   "display_name": "Python 3 (ipykernel)",
   "language": "python",
   "name": "python3"
  },
  "language_info": {
   "codemirror_mode": {
    "name": "ipython",
    "version": 3
   },
   "file_extension": ".py",
   "mimetype": "text/x-python",
   "name": "python",
   "nbconvert_exporter": "python",
   "pygments_lexer": "ipython3",
   "version": "3.10.4"
  }
 },
 "nbformat": 4,
 "nbformat_minor": 5
}
